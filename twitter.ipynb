{
  "nbformat": 4,
  "nbformat_minor": 0,
  "metadata": {
    "colab": {
      "provenance": [],
      "toc_visible": true
    },
    "kernelspec": {
      "name": "python3",
      "display_name": "Python 3"
    },
    "language_info": {
      "name": "python"
    }
  },
  "cells": [
    {
      "cell_type": "code",
      "execution_count": 2,
      "metadata": {
        "colab": {
          "base_uri": "https://localhost:8080/"
        },
        "id": "0sdtyZq-04-w",
        "outputId": "4da1c030-15b4-457d-de89-44a232be450d"
      },
      "outputs": [
        {
          "output_type": "stream",
          "name": "stdout",
          "text": [
            "Tweet: ÿþ1\u0000.\u0000 \u0000J\u0000u\u0000s\u0000t\u0000 \u0000h\u0000a\u0000d\u0000 \u0000a\u0000 \u0000g\u0000r\u0000e\u0000a\u0000t\u0000 \u0000t\u0000i\u0000m\u0000e\u0000 \u0000a\u0000t\u0000 \u0000t\u0000h\u0000e\u0000 \u0000p\u0000a\u0000r\u0000k\u0000 \u0000w\u0000i\u0000t\u0000h\u0000 \u0000m\u0000y\u0000 \u0000f\u0000r\u0000i\u0000e\u0000n\u0000d\u0000s\u0000!\u0000\n",
            "Profanity Degree: Not profane\n",
            "---\n",
            "Tweet: \u0000\n",
            "Profanity Degree: Not profane\n",
            "---\n",
            "Tweet: \u00002\u0000.\u0000 \u0000C\u0000a\u0000n\u0000'\u0000t\u0000 \u0000b\u0000e\u0000l\u0000i\u0000e\u0000v\u0000e\u0000 \u0000h\u0000o\u0000w\u0000 \u0000h\u0000o\u0000t\u0000 \u0000i\u0000t\u0000 \u0000i\u0000s\u0000 \u0000t\u0000o\u0000d\u0000a\u0000y\u0000.\u0000 \u0000U\u0000g\u0000h\u0000!\u0000\n",
            "Profanity Degree: Not profane\n",
            "---\n",
            "Tweet: \u0000\n",
            "Profanity Degree: Not profane\n",
            "---\n",
            "Tweet: \u00003\u0000.\u0000 \u0000I\u0000'\u0000m\u0000 \u0000s\u0000o\u0000 \u0000t\u0000i\u0000r\u0000e\u0000d\u0000 \u0000o\u0000f\u0000 \u0000d\u0000e\u0000a\u0000l\u0000i\u0000n\u0000g\u0000 \u0000w\u0000i\u0000t\u0000h\u0000 \u0000r\u0000a\u0000c\u0000i\u0000s\u0000t\u0000 \u0000c\u0000o\u0000m\u0000m\u0000e\u0000n\u0000t\u0000s\u0000 \u0000o\u0000n\u0000l\u0000i\u0000n\u0000e\u0000.\u0000 \u0000I\u0000t\u0000'\u0000s\u0000 \u0000d\u0000i\u0000s\u0000g\u0000u\u0000s\u0000t\u0000i\u0000n\u0000g\u0000.\u0000\n",
            "Profanity Degree: Not profane\n",
            "---\n",
            "Tweet: \u0000\n",
            "Profanity Degree: Not profane\n",
            "---\n",
            "Tweet: \u00004\u0000.\u0000 \u0000G\u0000o\u0000i\u0000n\u0000g\u0000 \u0000t\u0000o\u0000 \u0000t\u0000h\u0000e\u0000 \u0000b\u0000e\u0000a\u0000c\u0000h\u0000 \u0000w\u0000i\u0000t\u0000h\u0000 \u0000m\u0000y\u0000 \u0000f\u0000a\u0000m\u0000!\u0000 \u0000#\u0000f\u0000a\u0000m\u0000i\u0000l\u0000y\u0000t\u0000i\u0000m\u0000e\u0000 \u0000#\u0000b\u0000e\u0000a\u0000c\u0000h\u0000d\u0000a\u0000y\u0000\n",
            "Profanity Degree: Not profane\n",
            "---\n",
            "Tweet: \u0000\n",
            "Profanity Degree: Not profane\n",
            "---\n",
            "Tweet: \u00005\u0000.\u0000 \u0000S\u0000t\u0000o\u0000p\u0000 \u0000u\u0000s\u0000i\u0000n\u0000g\u0000 \u0000r\u0000a\u0000c\u0000i\u0000a\u0000l\u0000 \u0000s\u0000l\u0000u\u0000r\u0000s\u0000!\u0000 \u0000I\u0000t\u0000'\u0000s\u0000 \u0000n\u0000e\u0000v\u0000e\u0000r\u0000 \u0000a\u0000c\u0000c\u0000e\u0000p\u0000t\u0000a\u0000b\u0000l\u0000e\u0000.\u0000\n",
            "Profanity Degree: Not profane\n",
            "---\n",
            "Tweet: \u0000\n",
            "Profanity Degree: Not profane\n",
            "---\n",
            "Tweet: \u00006\u0000.\u0000 \u0000T\u0000h\u0000a\u0000t\u0000 \u0000m\u0000o\u0000v\u0000i\u0000e\u0000 \u0000w\u0000a\u0000s\u0000 \u0000s\u0000o\u0000 \u0000b\u0000o\u0000r\u0000i\u0000n\u0000g\u0000.\u0000 \u0000I\u0000 \u0000f\u0000e\u0000l\u0000l\u0000 \u0000a\u0000s\u0000l\u0000e\u0000e\u0000p\u0000 \u0000h\u0000a\u0000l\u0000f\u0000w\u0000a\u0000y\u0000 \u0000t\u0000h\u0000r\u0000o\u0000u\u0000g\u0000h\u0000.\u0000 \u0000=Ø4Þ\n",
            "Profanity Degree: Not profane\n",
            "---\n",
            "Tweet: \u0000\n",
            "Profanity Degree: Not profane\n",
            "---\n",
            "Tweet: \u00007\u0000.\u0000 \u0000C\u0000a\u0000n\u0000'\u0000t\u0000 \u0000s\u0000t\u0000a\u0000n\u0000d\u0000 \u0000p\u0000e\u0000o\u0000p\u0000l\u0000e\u0000 \u0000w\u0000h\u0000o\u0000 \u0000u\u0000s\u0000e\u0000 \u0000d\u0000e\u0000r\u0000o\u0000g\u0000a\u0000t\u0000o\u0000r\u0000y\u0000 \u0000l\u0000a\u0000n\u0000g\u0000u\u0000a\u0000g\u0000e\u0000 \u0000t\u0000o\u0000w\u0000a\u0000r\u0000d\u0000s\u0000 \u0000o\u0000t\u0000h\u0000e\u0000r\u0000s\u0000.\u0000\n",
            "Profanity Degree: Not profane\n",
            "---\n",
            "Tweet: \u0000\n",
            "Profanity Degree: Not profane\n",
            "---\n",
            "Tweet: \u00008\u0000.\u0000 \u0000E\u0000x\u0000c\u0000i\u0000t\u0000e\u0000d\u0000 \u0000t\u0000o\u0000 \u0000g\u0000o\u0000 \u0000o\u0000n\u0000 \u0000v\u0000a\u0000c\u0000a\u0000t\u0000i\u0000o\u0000n\u0000 \u0000n\u0000e\u0000x\u0000t\u0000 \u0000w\u0000e\u0000e\u0000k\u0000!\u0000 \u0000<ØÖß\u000fþ\b'\u000fþ\n",
            "Profanity Degree: Not profane\n",
            "---\n",
            "Tweet: \u0000\n",
            "Profanity Degree: Not profane\n",
            "---\n",
            "Tweet: \u00009\u0000.\u0000 \u0000I\u0000'\u0000m\u0000 \u0000s\u0000i\u0000c\u0000k\u0000 \u0000o\u0000f\u0000 \u0000h\u0000e\u0000a\u0000r\u0000i\u0000n\u0000g\u0000 \u0000r\u0000a\u0000c\u0000i\u0000s\u0000t\u0000 \u0000j\u0000o\u0000k\u0000e\u0000s\u0000.\u0000 \u0000I\u0000t\u0000'\u0000s\u0000 \u0000n\u0000o\u0000t\u0000 \u0000f\u0000u\u0000n\u0000n\u0000y\u0000.\u0000\n",
            "Profanity Degree: Not profane\n",
            "---\n",
            "Tweet: \u0000\n",
            "Profanity Degree: Not profane\n",
            "---\n",
            "Tweet: \u00001\u00000\u0000.\u0000 \u0000M\u0000y\u0000 \u0000t\u0000e\u0000a\u0000m\u0000 \u0000w\u0000o\u0000n\u0000 \u0000t\u0000h\u0000e\u0000 \u0000c\u0000h\u0000a\u0000m\u0000p\u0000i\u0000o\u0000n\u0000s\u0000h\u0000i\u0000p\u0000!\u0000 \u0000S\u0000o\u0000 \u0000p\u0000r\u0000o\u0000u\u0000d\u0000!\u0000 \u0000<ØÆß \u0000#\u0000c\u0000h\u0000a\u0000m\u0000p\u0000i\u0000o\u0000n\u0000s\u0000\n",
            "Profanity Degree: Not profane\n",
            "---\n",
            "Tweet: \u0000\n",
            "Profanity Degree: Not profane\n",
            "---\n",
            "Tweet: \u0000\n",
            "Profanity Degree: Not profane\n",
            "---\n"
          ]
        }
      ],
      "source": [
        "import re\n",
        "\n",
        "# List of racial slurs\n",
        "racial_slurs = set(['slur1', 'slur2', 'slur3'])  # Add more slurs as needed\n",
        "\n",
        "# Function to detect profanity in a sentence\n",
        "def detect_profanity(sentence):\n",
        "    # Split the sentence into words\n",
        "    words = sentence.lower().split()\n",
        "    # Count the number of racial slurs in the sentence\n",
        "    num_slurs = sum(1 for word in words if word in racial_slurs)\n",
        "    # Calculate the degree of profanity based on the number of slurs\n",
        "    if num_slurs == 0:\n",
        "        return \"Not profane\"\n",
        "    elif num_slurs <= 2:\n",
        "        return \"Mildly profane\"\n",
        "    elif num_slurs <= 4:\n",
        "        return \"Moderately profane\"\n",
        "    else:\n",
        "        return \"Highly profane\"\n",
        "\n",
        "# Read the file containing tweets\n",
        "# Read the file containing tweets\n",
        "with open('/content/drive/MyDrive/tweets.txt', 'rb') as file:\n",
        "    tweets = file.read().decode('ISO-8859-1').splitlines()\n",
        "\n",
        "\n",
        "# Loop through each tweet and detect profanity\n",
        "for tweet in tweets:\n",
        "    tweet = tweet.strip()\n",
        "    profanity_degree = detect_profanity(tweet)\n",
        "    print(f'Tweet: {tweet}')\n",
        "    print(f'Profanity Degree: {profanity_degree}')\n",
        "    print('---')\n"
      ]
    }
  ]
}